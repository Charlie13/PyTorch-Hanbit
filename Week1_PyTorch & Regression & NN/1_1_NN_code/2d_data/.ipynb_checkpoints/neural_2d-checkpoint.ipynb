{
 "cells": [
  {
   "cell_type": "markdown",
   "metadata": {},
   "source": [
    "# Neural Network with 2D Data\n",
    "- Neural Network with 4 layers\n",
    "- 2D data f(x,y) -> R"
   ]
  },
  {
   "cell_type": "markdown",
   "metadata": {},
   "source": [
    "## 1.Import Required Libraries"
   ]
  },
  {
   "cell_type": "code",
   "execution_count": 1,
   "metadata": {},
   "outputs": [],
   "source": [
    "import numpy as np\n",
    "import torch\n",
    "import torch.nn as nn\n",
    "import torch.optim as optim\n",
    "import torch.nn.init as init\n",
    "from torch.autograd import Variable\n",
    "from visdom import Visdom\n",
    "viz = Visdom()"
   ]
  },
  {
   "cell_type": "markdown",
   "metadata": {},
   "source": [
    "## 2. Data Generation"
   ]
  },
  {
   "cell_type": "code",
   "execution_count": 2,
   "metadata": {},
   "outputs": [],
   "source": [
    "num_data=1000\n",
    "num_epoch=10000\n",
    "\n",
    "x = init.uniform(torch.Tensor(num_data,1),-10,10)\n",
    "y = init.uniform(torch.Tensor(num_data,1),-10,10)\n",
    "z = x**2 + y**2\n",
    "\n",
    "x_noise = x + init.normal(torch.FloatTensor(num_data,1),std=0.5)\n",
    "y_noise = y + init.normal(torch.FloatTensor(num_data,1),std=0.5)\n",
    "z_noise = x_noise**2 + y_noise**2\n",
    "\n",
    "data_noise = torch.cat([x,y,z_noise],1)"
   ]
  },
  {
   "cell_type": "code",
   "execution_count": 3,
   "metadata": {},
   "outputs": [],
   "source": [
    "# data visualization\n",
    "\n",
    "win_1=viz.scatter(\n",
    "        X=data_noise,\n",
    "        opts=dict(\n",
    "            markersize=5,\n",
    "            markercolor=np.ndarray(shape=[num_data,3],dtype=float,buffer=[51,153,255]*np.ones(shape=[num_data,3]))\n",
    "            )\n",
    "        )"
   ]
  },
  {
   "cell_type": "markdown",
   "metadata": {},
   "source": [
    "## 3. Model & Optimizer"
   ]
  },
  {
   "cell_type": "code",
   "execution_count": 4,
   "metadata": {},
   "outputs": [],
   "source": [
    "model = nn.Sequential(\n",
    "            nn.Linear(2,20),\n",
    "            nn.ReLU(),\n",
    "            nn.Linear(20,10),\n",
    "            nn.ReLU(),\n",
    "            nn.Linear(10,5),\n",
    "            nn.ReLU(),\n",
    "            nn.Linear(5,5),\n",
    "            nn.ReLU(),\n",
    "            nn.Linear(5,1),\n",
    "        )#.cuda()\n",
    "\n",
    "loss_func = nn.L1Loss()\n",
    "optimizer = optim.SGD(model.parameters(),lr=0.001)"
   ]
  },
  {
   "cell_type": "markdown",
   "metadata": {},
   "source": [
    "## 4. Train "
   ]
  },
  {
   "cell_type": "code",
   "execution_count": 6,
   "metadata": {
    "scrolled": true
   },
   "outputs": [
    {
     "name": "stdout",
     "output_type": "stream",
     "text": [
      "Variable containing:\n",
      " 68.7265\n",
      "[torch.FloatTensor of size 1]\n",
      "\n",
      "Variable containing:\n",
      " 68.5558\n",
      "[torch.FloatTensor of size 1]\n",
      "\n",
      "Variable containing:\n",
      " 68.3417\n",
      "[torch.FloatTensor of size 1]\n",
      "\n",
      "Variable containing:\n",
      " 68.0166\n",
      "[torch.FloatTensor of size 1]\n",
      "\n",
      "Variable containing:\n",
      " 67.3026\n",
      "[torch.FloatTensor of size 1]\n",
      "\n",
      "Variable containing:\n",
      " 63.7148\n",
      "[torch.FloatTensor of size 1]\n",
      "\n",
      "Variable containing:\n",
      " 18.9178\n",
      "[torch.FloatTensor of size 1]\n",
      "\n",
      "Variable containing:\n",
      " 16.8945\n",
      "[torch.FloatTensor of size 1]\n",
      "\n",
      "Variable containing:\n",
      " 15.9684\n",
      "[torch.FloatTensor of size 1]\n",
      "\n",
      "Variable containing:\n",
      " 15.1859\n",
      "[torch.FloatTensor of size 1]\n",
      "\n"
     ]
    }
   ],
   "source": [
    "input_data = torch.cat([x,y],1)#.cuda()\n",
    "label = z_noise#.cuda()\n",
    "loss_arr =[]\n",
    "\n",
    "for i in range(num_epoch):\n",
    "    optimizer.zero_grad()\n",
    "    output = model(Variable(input_data))\n",
    "    loss = loss_func(output,Variable(label))\n",
    "    loss.backward()\n",
    "    optimizer.step()\n",
    "    \n",
    "    loss_arr.append(loss.data.numpy()[0])\n",
    "    \n",
    "    if i % 100 == 0 and i <1000:\n",
    "        print(loss)\n",
    "        data = torch.cat([input_data,output.data],1)\n",
    "\n",
    "        win_2 =viz.scatter(\n",
    "                X=data,\n",
    "                opts=dict(\n",
    "                markersize=5,\n",
    "                markercolor=np.ndarray(shape=[num_data,3],dtype=float,buffer=128*np.ones(shape=[num_data,3]))\n",
    "            )\n",
    "    )"
   ]
  },
  {
   "cell_type": "code",
   "execution_count": 7,
   "metadata": {},
   "outputs": [
    {
     "name": "stdout",
     "output_type": "stream",
     "text": [
      "[Parameter containing:\n",
      " 0.3725  0.2177\n",
      " 0.3809  0.2934\n",
      "-0.0693 -0.5284\n",
      " 0.4488 -0.2860\n",
      " 0.3093 -0.5826\n",
      "-0.7883 -0.4925\n",
      "-0.0951  0.5486\n",
      " 0.2417 -0.0905\n",
      " 0.0753  0.6284\n",
      " 0.3730 -0.0994\n",
      " 0.3220 -0.5441\n",
      " 0.3287 -0.0827\n",
      " 0.5005 -0.0372\n",
      "-0.5420 -0.3559\n",
      "-0.1303  0.5789\n",
      "-0.7600  0.0432\n",
      " 0.2961  0.5905\n",
      " 0.3952  0.2835\n",
      "-0.3480  0.2307\n",
      "-0.4286 -0.1643\n",
      "[torch.FloatTensor of size 20x2]\n",
      ", Parameter containing:\n",
      "-0.7858\n",
      "-0.2348\n",
      "-1.1124\n",
      "-0.4849\n",
      "-0.0359\n",
      " 0.1474\n",
      " 0.4121\n",
      "-1.1400\n",
      "-0.5562\n",
      "-0.3496\n",
      "-1.0329\n",
      " 1.2786\n",
      "-0.5881\n",
      " 0.8112\n",
      " 0.4626\n",
      "-1.0290\n",
      "-0.7159\n",
      "-0.4514\n",
      "-0.6653\n",
      "-0.1565\n",
      "[torch.FloatTensor of size 20]\n",
      ", Parameter containing:\n",
      "\n",
      "Columns 0 to 9 \n",
      " 0.0305  0.1906  0.5019 -0.1356  0.2070  0.0673  0.1119  0.3785  0.3028 -0.1554\n",
      " 0.2345  0.1870 -0.2580  0.1805 -0.2858 -0.0927 -0.2579  0.2866  0.0169  0.1121\n",
      " 0.1093 -0.0226 -0.0949 -0.0100 -0.0629 -0.0521 -0.1191  0.1745 -0.0885 -0.2046\n",
      "-0.1872  0.1684 -0.0080  0.1943 -0.1454 -0.0919 -0.0913 -0.1815  0.0795 -0.1375\n",
      " 0.2063  0.0398  0.2260  0.3315  0.3500  0.3734  0.3821  0.1739  0.2573  0.3302\n",
      "-0.1179 -0.0225  0.1927  0.0986 -0.0856 -0.0200 -0.1390 -0.1172  0.0234 -0.0984\n",
      " 0.0344 -0.0486  0.2139 -0.0455 -0.0153  0.1309 -0.3039 -0.1046  0.2270  0.0364\n",
      " 0.1535  0.2738  0.2805  0.3112  0.2749  0.1847 -0.1024  0.1061  0.0929  0.2134\n",
      " 0.5324  0.1309  0.3717  0.1364  0.1997  0.1695 -0.1156  0.4505  0.2924 -0.0493\n",
      "-0.0513  0.0076 -0.2122 -0.0983 -0.0852 -0.0562 -0.0044  0.2047  0.0004  0.2332\n",
      "\n",
      "Columns 10 to 19 \n",
      " 0.4146 -0.2644  0.1049 -0.3874  0.2372  0.2827  0.3380  0.2067  0.3624  0.2849\n",
      "-0.3000  0.2570  0.1992  0.0319  0.0566 -0.1335 -0.1054 -0.0637 -0.2226  0.1916\n",
      " 0.1990  0.0597 -0.1191  0.0675 -0.1315  0.0369 -0.1619  0.2044 -0.1053 -0.1940\n",
      " 0.0534 -0.2296  0.1272 -0.0278  0.0390 -0.0123 -0.1490  0.0180 -0.2054 -0.1889\n",
      "-0.0030  0.1792  0.1402  0.1665  0.1820  0.1596 -0.0013 -0.0600  0.0476  0.0298\n",
      "-0.1818 -0.2220  0.1069  0.0000 -0.1250 -0.1877 -0.0027  0.0414 -0.1606 -0.0186\n",
      " 0.1965 -0.2575  0.1674 -0.0868 -0.0608  0.2165  0.2069  0.1011  0.0618  0.2325\n",
      " 0.1619 -0.2273  0.3349 -0.0635 -0.3674  0.5123  0.3265 -0.0805  0.0642  0.0618\n",
      " 0.5615 -0.8673  0.0049 -0.3584 -0.0978  0.5415  0.1996  0.3890  0.4548 -0.1416\n",
      " 0.2007 -0.0533  0.0587 -0.1781  0.0186  0.3458  0.1336 -0.0466  0.2154  0.0112\n",
      "[torch.FloatTensor of size 10x20]\n",
      ", Parameter containing:\n",
      "-0.7025\n",
      "-0.0294\n",
      "-0.0970\n",
      "-0.1377\n",
      "-0.3377\n",
      "-0.0511\n",
      "-0.7016\n",
      "-0.6512\n",
      "-1.8174\n",
      "-0.4720\n",
      "[torch.FloatTensor of size 10]\n",
      ", Parameter containing:\n",
      "-0.0877 -0.1199 -0.2411 -0.0336 -0.2731  0.3053  0.2666 -0.0278 -0.0093  0.1885\n",
      " 0.2672  0.0432 -0.1382 -0.0229 -0.1976  0.0512 -0.2785  0.0873 -0.0028  0.0414\n",
      " 0.4581  0.0128  0.1203 -0.2418  0.4433 -0.0450  0.1047  0.4403  0.9407  0.3381\n",
      " 0.8689  0.5465 -0.0229 -0.2469  0.7051  0.2154  0.8008  0.7669  1.7348  0.4113\n",
      "-0.1533  0.3281  0.3101 -0.2506  0.1153  0.1154 -0.0183  0.2829  0.1102  0.2327\n",
      "[torch.FloatTensor of size 5x10]\n",
      ", Parameter containing:\n",
      " 0.1853\n",
      "-0.0047\n",
      "-0.2983\n",
      "-0.4308\n",
      "-0.3087\n",
      "[torch.FloatTensor of size 5]\n",
      ", Parameter containing:\n",
      " 0.1096  0.0157 -0.0859 -0.0388 -0.2646\n",
      "-0.1864  0.0145  1.1576  2.4144  0.3435\n",
      "-0.2956  0.2237  0.3747 -0.3580 -0.3014\n",
      "-0.1973 -0.3622 -0.3558  0.0432  0.3452\n",
      " 0.1792  0.0482 -0.2055  0.0955  0.0779\n",
      "[torch.FloatTensor of size 5x5]\n",
      ", Parameter containing:\n",
      " 0.1468\n",
      " 0.2748\n",
      "-0.2534\n",
      "-0.4443\n",
      "-0.2838\n",
      "[torch.FloatTensor of size 5]\n",
      ", Parameter containing:\n",
      "-0.0143  2.6688 -0.2904  0.3382 -0.3664\n",
      "[torch.FloatTensor of size 1x5]\n",
      ", Parameter containing:\n",
      " 0.7109\n",
      "[torch.FloatTensor of size 1]\n",
      "]\n"
     ]
    }
   ],
   "source": [
    "param_list = list(model.parameters())\n",
    "print(param_list)"
   ]
  },
  {
   "cell_type": "markdown",
   "metadata": {},
   "source": [
    "## 5. Visualize Trained Output"
   ]
  },
  {
   "cell_type": "code",
   "execution_count": 8,
   "metadata": {},
   "outputs": [],
   "source": [
    "data = torch.cat([input_data,output.data],1)\n",
    "\n",
    "win_2 =viz.scatter(\n",
    "        X=data,\n",
    "        opts=dict(\n",
    "        markersize=5,\n",
    "        markercolor=np.ndarray(shape=[num_data,3],dtype=float,buffer=128*np.ones(shape=[num_data,3]))\n",
    "    )\n",
    ")"
   ]
  },
  {
   "cell_type": "markdown",
   "metadata": {},
   "source": [
    "## 6. Visualize Loss Graph"
   ]
  },
  {
   "cell_type": "code",
   "execution_count": 9,
   "metadata": {},
   "outputs": [],
   "source": [
    "x = np.reshape([i for i in range(num_epoch)],newshape=[num_epoch,1])\n",
    "loss_data = np.reshape(loss_arr,newshape=[num_epoch,1])\n",
    "\n",
    "win3=viz.line(\n",
    "    X = x,\n",
    "    Y = loss_data,\n",
    ")"
   ]
  },
  {
   "cell_type": "code",
   "execution_count": null,
   "metadata": {},
   "outputs": [],
   "source": []
  }
 ],
 "metadata": {
  "kernelspec": {
   "display_name": "Python 3",
   "language": "python",
   "name": "python3"
  },
  "language_info": {
   "codemirror_mode": {
    "name": "ipython",
    "version": 3
   },
   "file_extension": ".py",
   "mimetype": "text/x-python",
   "name": "python",
   "nbconvert_exporter": "python",
   "pygments_lexer": "ipython3",
   "version": "3.6.4"
  }
 },
 "nbformat": 4,
 "nbformat_minor": 1
}
